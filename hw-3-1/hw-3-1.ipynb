{
 "cells": [
  {
   "cell_type": "markdown",
   "id": "803272cb",
   "metadata": {},
   "source": [
    "a) Написать программу, которая удаляет из списка все элементы, стоящие на четных позициях."
   ]
  },
  {
   "cell_type": "code",
   "execution_count": 1,
   "id": "5a2715f0",
   "metadata": {},
   "outputs": [
    {
     "name": "stdout",
     "output_type": "stream",
     "text": [
      "['b', 'd', 2, 4]\n"
     ]
    }
   ],
   "source": [
    "lst = ['a', 'b', 'c', 'd', 1, 2, 3, 4]\n",
    "del lst[::2] # если четные позиции соответствуют четным индексам\n",
    "print(lst)"
   ]
  },
  {
   "cell_type": "code",
   "execution_count": 2,
   "id": "1eb9e830",
   "metadata": {},
   "outputs": [
    {
     "name": "stdout",
     "output_type": "stream",
     "text": [
      "['a', 'c', 1, 3]\n"
     ]
    }
   ],
   "source": [
    "lst = ['a', 'b', 'c', 'd', 1, 2, 3, 4]\n",
    "del lst[1::2] # если мы начинаем счет позиций с 1\n",
    "print(lst)"
   ]
  },
  {
   "cell_type": "markdown",
   "id": "46a84678",
   "metadata": {},
   "source": [
    "b) Написать программу, которая считывает список слов и находит слова, содержащие более трех гласных букв."
   ]
  },
  {
   "cell_type": "code",
   "execution_count": 3,
   "id": "54415e75",
   "metadata": {},
   "outputs": [
    {
     "name": "stdout",
     "output_type": "stream",
     "text": [
      "Введите слово. Для выхода нажмите Enter: Самолёт\n",
      "Введите слово. Для выхода нажмите Enter: самолёты\n",
      "Введите слово. Для выхода нажмите Enter: обороноспособность\n",
      "Введите слово. Для выхода нажмите Enter: длинношееед\n",
      "Введите слово. Для выхода нажмите Enter: к\n",
      "Введите слово. Для выхода нажмите Enter: python\n",
      "Введите слово. Для выхода нажмите Enter: Clickhouse\n",
      "Введите слово. Для выхода нажмите Enter: \n",
      "\n",
      "Cлова, содержащие более трех гласных букв:\n",
      "\n",
      " - самолёты\n",
      " - обороноспособность\n",
      " - длинношееед\n",
      " - Clickhouse\n",
      "\n"
     ]
    }
   ],
   "source": [
    "import re # рерулярные выражения\n",
    "word_list = []\n",
    "\n",
    "while True:\n",
    "    word = input('Введите слово. Для выхода нажмите Enter: ').strip()\n",
    "    if word == '':\n",
    "        break\n",
    "    if word.isalpha():\n",
    "        if len([hit for hit in re.finditer('[AEIOUYАЕЁИОУЫЭЮЯ]', word.upper())]) > 3:\n",
    "            word_list.append(word)\n",
    "    else:\n",
    "        print('Недопустимые символы в слове!')\n",
    "\n",
    "print('\\nCлова, содержащие более трех гласных букв:\\n')\n",
    "[print(' - ' + word) for word in word_list]\n",
    "print()"
   ]
  },
  {
   "cell_type": "markdown",
   "id": "9bb8b73a",
   "metadata": {},
   "source": [
    "c) Написать программу, которая находит второй по величине элемент в списке."
   ]
  },
  {
   "cell_type": "code",
   "execution_count": 4,
   "id": "05b90b13",
   "metadata": {},
   "outputs": [
    {
     "name": "stdout",
     "output_type": "stream",
     "text": [
      "10\n"
     ]
    }
   ],
   "source": [
    "lst = [7, 10, 5, 103, -27]\n",
    "lst_len = len(lst)\n",
    "if lst_len == 0:\n",
    "    print('Список пуст')\n",
    "elif lst_len == 1:\n",
    "    print('В списке только один элемент')\n",
    "else:\n",
    "    print(sorted(lst)[-2])\n"
   ]
  },
  {
   "cell_type": "markdown",
   "id": "7f50a25b",
   "metadata": {},
   "source": [
    "d) Написать программу, которая удаляет из списка все дубликаты."
   ]
  },
  {
   "cell_type": "code",
   "execution_count": 5,
   "id": "7d79d4d2",
   "metadata": {},
   "outputs": [
    {
     "name": "stdout",
     "output_type": "stream",
     "text": [
      "['a', 10, 'b', 7, 'x']\n"
     ]
    }
   ],
   "source": [
    "from collections import OrderedDict\n",
    "lst = ['a', 10, 'b', 'a', 10, 7, 'a', 'b', 10, 7, 7, 'x']\n",
    "od = OrderedDict.fromkeys(lst)\n",
    "print(list(od))"
   ]
  },
  {
   "cell_type": "markdown",
   "id": "e1e4c514",
   "metadata": {},
   "source": [
    "e) Написать программу, которая считывает данные из CSV-файла и создает словарь, где ключами являются значения в столбце «Name», а значениями — соответствующие им словари с информацией о поле, возрасте и зарплате."
   ]
  },
  {
   "cell_type": "code",
   "execution_count": 6,
   "id": "e7bc1e83",
   "metadata": {},
   "outputs": [
    {
     "name": "stdout",
     "output_type": "stream",
     "text": [
      "{'дядя_вася': {'Gender': 'M', 'Age': 40, 'Salary': 150}, 'тётя_галя': {'Gender': 'F', 'Age': 30, 'Salary': 100}, 'кот_кузя': {'Gender': 'M', 'Age': 18, 'Salary': 0}}\n",
      "\n",
      "0\n"
     ]
    }
   ],
   "source": [
    "import csv\n",
    "dct = dict()\n",
    "with open('data.csv', encoding='UTF-8') as csvfile:\n",
    "    reader = csv.DictReader(csvfile)\n",
    "    for row in reader:\n",
    "        row['Age'] = int(row['Age'])\n",
    "        row['Salary'] = int(row['Salary'])\n",
    "        name = row.pop('Name')\n",
    "        dct[name] = row\n",
    "        \n",
    "print(dct)\n",
    "print()\n",
    "print(dct['кот_кузя']['Salary'])"
   ]
  },
  {
   "cell_type": "markdown",
   "id": "567268c6",
   "metadata": {},
   "source": [
    "f) Написать программу, которая запрашивает у пользователя строку и выводит на экран все ее подстроки длиной не менее трех символов."
   ]
  },
  {
   "cell_type": "code",
   "execution_count": 7,
   "id": "85a42a47",
   "metadata": {},
   "outputs": [
    {
     "name": "stdout",
     "output_type": "stream",
     "text": [
      "Введите строку: строка\n",
      "стр\n",
      "тро\n",
      "рок\n",
      "ока\n",
      "стро\n",
      "трок\n",
      "рока\n",
      "строк\n",
      "трока\n",
      "строка\n"
     ]
    }
   ],
   "source": [
    "in_str = input('Введите строку: ')\n",
    "in_str_len = len(in_str)\n",
    "\n",
    "for substr_len in range (3, in_str_len + 1):\n",
    "    for substr_start in range(0, in_str_len + 1 - substr_len):\n",
    "        print(in_str[substr_start:substr_start + substr_len])"
   ]
  }
 ],
 "metadata": {
  "kernelspec": {
   "display_name": "Python 3 (ipykernel)",
   "language": "python",
   "name": "python3"
  },
  "language_info": {
   "codemirror_mode": {
    "name": "ipython",
    "version": 3
   },
   "file_extension": ".py",
   "mimetype": "text/x-python",
   "name": "python",
   "nbconvert_exporter": "python",
   "pygments_lexer": "ipython3",
   "version": "3.9.16"
  }
 },
 "nbformat": 4,
 "nbformat_minor": 5
}
