{
 "cells": [
  {
   "cell_type": "code",
   "execution_count": 1,
   "id": "de39ece7",
   "metadata": {},
   "outputs": [],
   "source": [
    "import pandas as pd\n",
    "import datetime as dt"
   ]
  },
  {
   "cell_type": "code",
   "execution_count": 2,
   "id": "9ac8fad5",
   "metadata": {},
   "outputs": [],
   "source": [
    "df=pd.read_csv('csv/people.csv', index_col='Index')\n",
    "df['group'] = (df.index-1)//10000\n",
    "df.to_csv('csv/ppl_gr.csv')"
   ]
  },
  {
   "cell_type": "code",
   "execution_count": 3,
   "id": "d20f53ec",
   "metadata": {},
   "outputs": [],
   "source": [
    "df=pd.read_csv('csv/organizations.csv', index_col='Index')\n",
    "df['group'] = (df.index-1)//10000\n",
    "df.to_csv('csv/org_gr.csv')"
   ]
  },
  {
   "cell_type": "code",
   "execution_count": 4,
   "id": "3f0dc9c9",
   "metadata": {},
   "outputs": [],
   "source": [
    "df=pd.read_csv('csv/customers.csv', index_col='Index')\n",
    "df['group'] = (df.index-1)//10000\n",
    "df['year'] = df['Subscription Date'].apply(lambda x: dt.datetime.fromisoformat(x).year)\n",
    "df.to_csv('csv/cust_gr.csv')"
   ]
  }
 ],
 "metadata": {
  "kernelspec": {
   "display_name": "Python 3 (ipykernel)",
   "language": "python",
   "name": "python3"
  },
  "language_info": {
   "codemirror_mode": {
    "name": "ipython",
    "version": 3
   },
   "file_extension": ".py",
   "mimetype": "text/x-python",
   "name": "python",
   "nbconvert_exporter": "python",
   "pygments_lexer": "ipython3",
   "version": "3.9.16"
  }
 },
 "nbformat": 4,
 "nbformat_minor": 5
}
