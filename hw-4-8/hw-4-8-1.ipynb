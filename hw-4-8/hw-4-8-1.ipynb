{
 "cells": [
  {
   "cell_type": "code",
   "execution_count": 1,
   "id": "ff36d17e",
   "metadata": {},
   "outputs": [],
   "source": [
    "# Генератор данных\n",
    "import pandas as pd\n",
    "import numpy as np\n",
    "\n",
    "pd.DataFrame(\n",
    "    zip(np.random.randint(0, 2000, size=100000), \n",
    "        np.random.randint(1562007679, 1564606800, size=100000)), \n",
    "    columns=['id','timestamp'] \n",
    ").to_csv('data/1-logs.csv', index=None)"
   ]
  },
  {
   "cell_type": "code",
   "execution_count": 2,
   "id": "12bf5b63",
   "metadata": {},
   "outputs": [],
   "source": [
    "import findspark\n",
    "findspark.init()\n",
    "from pyspark.sql import SparkSession\n",
    "from pyspark.sql.functions import *\n",
    "from pyspark.sql.window import Window"
   ]
  },
  {
   "cell_type": "code",
   "execution_count": 3,
   "id": "e3d7b0cb",
   "metadata": {},
   "outputs": [],
   "source": [
    "spark = SparkSession.builder \\\n",
    "      .master(\"local[2]\") \\\n",
    "      .appName(\"SparkFirst\")   \\\n",
    "      .config(\"spark.executor.memory\", \"16g\") \\\n",
    "      .config(\"spark.driver.memory\", \"16g\") \\\n",
    "      .config(\"spark.executor.cores\", 4) \\\n",
    "      .config(\"spark.dynamicAllocation.enabled\", \"true\") \\\n",
    "      .config(\"spark.dynamicAllocation.maxExecutors\", 4) \\\n",
    "      .config(\"spark.shuffle.service.enabled\", \"true\") \\\n",
    "      .getOrCreate()\n",
    "df = spark.read.option(\"header\", True).option(\"inferSchema\", \"true\").csv(\"data/1-logs.csv\")"
   ]
  },
  {
   "cell_type": "code",
   "execution_count": 4,
   "id": "210d606e",
   "metadata": {},
   "outputs": [
    {
     "name": "stdout",
     "output_type": "stream",
     "text": [
      "+---+---------------+\n",
      "| id|avg_s_len_hours|\n",
      "+---+---------------+\n",
      "|  0|           3.62|\n",
      "|  1|           6.11|\n",
      "|  2|           5.84|\n",
      "|  3|            5.4|\n",
      "|  4|           6.81|\n",
      "|  5|           8.17|\n",
      "|  6|           8.89|\n",
      "|  7|           4.89|\n",
      "|  8|            8.7|\n",
      "|  9|           5.38|\n",
      "| 10|           4.94|\n",
      "| 11|           3.64|\n",
      "| 12|           6.72|\n",
      "| 13|           8.58|\n",
      "| 14|            4.8|\n",
      "| 15|           6.22|\n",
      "| 16|            7.7|\n",
      "| 17|           8.63|\n",
      "| 18|           8.05|\n",
      "| 19|           9.35|\n",
      "+---+---------------+\n",
      "only showing top 20 rows\n",
      "\n"
     ]
    }
   ],
   "source": [
    "wnd  = Window.partitionBy(\"id\", from_unixtime(col(\"timestamp\"), \"yyyy-MM-dd\"))\n",
    "\n",
    "df.select(\"id\", from_unixtime(col(\"timestamp\"), \"yyyy-MM-dd\").alias(\"date\"), \\\n",
    "    (max(\"timestamp\").over(wnd) - min(\"timestamp\").over(wnd)).alias(\"s_len\")) \\\n",
    "    .distinct() \\\n",
    "    .orderBy(\"id\", \"date\") \\\n",
    "    .groupBy(\"id\") \\\n",
    "    .agg(round((avg(\"s_len\") / 3600), 2).alias(\"avg_s_len_hours\")) \\\n",
    "    .orderBy(\"id\") \\\n",
    "    .show()"
   ]
  }
 ],
 "metadata": {
  "kernelspec": {
   "display_name": "Python 3 (ipykernel)",
   "language": "python",
   "name": "python3"
  },
  "language_info": {
   "codemirror_mode": {
    "name": "ipython",
    "version": 3
   },
   "file_extension": ".py",
   "mimetype": "text/x-python",
   "name": "python",
   "nbconvert_exporter": "python",
   "pygments_lexer": "ipython3",
   "version": "3.8.18"
  }
 },
 "nbformat": 4,
 "nbformat_minor": 5
}
