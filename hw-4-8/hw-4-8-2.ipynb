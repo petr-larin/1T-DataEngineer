{
 "cells": [
  {
   "cell_type": "code",
   "execution_count": 1,
   "id": "2a09c6da",
   "metadata": {},
   "outputs": [],
   "source": [
    "# Входные данные\n",
    "inp_year = 2023\n",
    "inp_month = 6"
   ]
  },
  {
   "cell_type": "code",
   "execution_count": 2,
   "id": "12bf5b63",
   "metadata": {},
   "outputs": [],
   "source": [
    "import findspark\n",
    "findspark.init()\n",
    "from pyspark.sql import SparkSession\n",
    "from pyspark.sql.functions import *\n",
    "import calendar as cal\n",
    "from itertools import accumulate\n",
    "from pyspark.sql.types import IntegerType"
   ]
  },
  {
   "cell_type": "code",
   "execution_count": 3,
   "id": "598893f0",
   "metadata": {},
   "outputs": [
    {
     "name": "stdout",
     "output_type": "stream",
     "text": [
      "Продолжительность технических недель: [4, 7, 7, 7, 5]\n",
      "Таблица по техническим неделям:\n",
      "+----+---+-------+-------+-------+-------+-------+------+-------+-------+-------+-------+-------+\n",
      "|prod|loc|wk1-dem|wk2-dem|wk3-dem|wk4-dem|wk5-dem|op-stk|wk1-stk|wk2-stk|wk3-stk|wk4-stk|wk5-stk|\n",
      "+----+---+-------+-------+-------+-------+-------+------+-------+-------+-------+-------+-------+\n",
      "|   1|  1|    400|    700|    700|    700|    500|  1000|    600|   -100|   -800|  -1500|  -2000|\n",
      "|   1|  2|    440|    770|    770|    770|    550|   400|    -40|   -810|  -1580|  -2350|  -2900|\n",
      "|   2|  1|    480|    840|    840|    840|    600|   300|   -180|  -1020|  -1860|  -2700|  -3300|\n",
      "|   2|  2|    360|    630|    630|    630|    450|   250|   -110|   -740|  -1370|  -2000|  -2450|\n",
      "|   3|  1|    280|    490|    490|    490|    350|   700|    420|    -70|   -560|  -1050|  -1400|\n",
      "|   3|  2|    320|    560|    560|    560|    400|   800|    480|    -80|   -640|  -1200|  -1600|\n",
      "|   4|  1|    160|    280|    280|    280|    200|  2500|   2340|   2060|   1780|   1500|   1300|\n",
      "|   4|  2|    300|    525|    525|    525|    375|  1730|   1430|    905|    380|   -145|   -520|\n",
      "|   5|  1|    140|    245|    245|    245|    175|  3260|   3120|   2875|   2630|   2385|   2210|\n",
      "|   5|  2|     80|    140|    140|    140|    100|   890|    810|    670|    530|    390|    290|\n",
      "+----+---+-------+-------+-------+-------+-------+------+-------+-------+-------+-------+-------+\n",
      "\n"
     ]
    }
   ],
   "source": [
    "spark = SparkSession.builder \\\n",
    "      .master(\"local[2]\") \\\n",
    "      .appName(\"SparkFirst\")   \\\n",
    "      .config(\"spark.executor.memory\", \"32g\") \\\n",
    "      .config(\"spark.driver.memory\", \"32g\") \\\n",
    "      .config(\"spark.executor.cores\", 4) \\\n",
    "      .config(\"spark.dynamicAllocation.enabled\", \"true\") \\\n",
    "      .config(\"spark.dynamicAllocation.maxExecutors\", 4) \\\n",
    "      .config(\"spark.shuffle.service.enabled\", \"true\") \\\n",
    "      .getOrCreate()\n",
    "df_dem = spark.read.option(\"header\", True).option(\"inferSchema\", \"true\").csv(\"data/2-demand.csv\")\n",
    "df_stk = spark.read.option(\"header\", True).option(\"inferSchema\", \"true\").csv(\"data/2-stock.csv\")\n",
    "\n",
    "# Без join'а можно обойтись, если мы уверены, что в обоих df построчное соответствие ключа (product, location)\n",
    "df = df_dem\\\n",
    "  .join(df_stk, [ df_dem.product == df_stk.product, df_dem.location == df_stk.location ])\\\n",
    "  .select((df_dem.product).alias(\"prod\"), (df_dem.location).alias(\"loc\"), df_dem.demand, df_stk.stock)\n",
    "\n",
    "del df_dem, df_stk\n",
    "\n",
    "# Рассчитываем количество дней в технических неделях\n",
    "d_1, d_tot = cal.monthrange(inp_year, inp_month)\n",
    "week_len = [7 - d_1] + [7]*((d_1 + d_tot - 7)//7) + [(d_1 + d_tot) % 7]\n",
    "if week_len[-1] == 0: del week_len[-1]\n",
    "week_len_run = [0] + list(accumulate(week_len)) # нарастающий итог\n",
    "print(\"Продолжительность технических недель:\", week_len)\n",
    "\n",
    "# Добавляем столбцы\n",
    "def lbl(pf, n): return \"wk\" + str(n) + pf\n",
    "new_cols_dict = dict(zip(\n",
    "    [ lbl(\"-dem\", n) for n in range(1, len(week_len) + 1) ] +              # заголовки - спрос\n",
    "    [\"op-stk\"] + [ lbl(\"-stk\", n) for n in range(1, len(week_len) + 1) ],  # заголовки - запас\n",
    "    [ df['demand'] * wl for wl in week_len ] +                             # значения - спрос\n",
    "    [ df['stock'] - df['demand'] * wlr for wlr in week_len_run ]           # значения - запас\n",
    "))\n",
    "\n",
    "df = df.withColumns(new_cols_dict).drop(\"demand\", \"stock\")\n",
    "print(\"Таблица по техническим неделям:\")\n",
    "df.show()"
   ]
  },
  {
   "cell_type": "code",
   "execution_count": 4,
   "id": "53bfc008",
   "metadata": {},
   "outputs": [
    {
     "name": "stdout",
     "output_type": "stream",
     "text": [
      "+----+---+-------+-------+-------+-------+-------+------+-------+-------+-------+-------+-------+\n",
      "|prod|loc|wk1-dem|wk2-dem|wk3-dem|wk4-dem|wk5-dem|op-stk|wk1-stk|wk2-stk|wk3-stk|wk4-stk|wk5-stk|\n",
      "+----+---+-------+-------+-------+-------+-------+------+-------+-------+-------+-------+-------+\n",
      "|   1|  1|    400|    700|    700|    700|    500|  1000|    600|      0|      0|      0|      0|\n",
      "|   1|  2|    440|    770|    770|    770|    550|   400|      0|      0|      0|      0|      0|\n",
      "|   2|  1|    480|    840|    840|    840|    600|   300|      0|      0|      0|      0|      0|\n",
      "|   2|  2|    360|    630|    630|    630|    450|   250|      0|      0|      0|      0|      0|\n",
      "|   3|  1|    280|    490|    490|    490|    350|   700|    420|      0|      0|      0|      0|\n",
      "|   3|  2|    320|    560|    560|    560|    400|   800|    480|      0|      0|      0|      0|\n",
      "|   4|  1|    160|    280|    280|    280|    200|  2500|   2340|   2060|   1780|   1500|   1300|\n",
      "|   4|  2|    300|    525|    525|    525|    375|  1730|   1430|    905|    380|      0|      0|\n",
      "|   5|  1|    140|    245|    245|    245|    175|  3260|   3120|   2875|   2630|   2385|   2210|\n",
      "|   5|  2|     80|    140|    140|    140|    100|   890|    810|    670|    530|    390|    290|\n",
      "+----+---+-------+-------+-------+-------+-------+------+-------+-------+-------+-------+-------+\n",
      "\n"
     ]
    }
   ],
   "source": [
    "# Нужно убрать отрицательные значения\n",
    "@udf(returnType = IntegerType())\n",
    "def non_neg(x): return 0 if x < 0 else x\n",
    "new_cols_dict = { lbl(\"-stk\", n) : non_neg(lbl(\"-stk\", n)) for n in range(1, len(week_len) + 1) }\n",
    "df = df.withColumns(new_cols_dict)\n",
    "df.show()"
   ]
  }
 ],
 "metadata": {
  "kernelspec": {
   "display_name": "Python 3 (ipykernel)",
   "language": "python",
   "name": "python3"
  },
  "language_info": {
   "codemirror_mode": {
    "name": "ipython",
    "version": 3
   },
   "file_extension": ".py",
   "mimetype": "text/x-python",
   "name": "python",
   "nbconvert_exporter": "python",
   "pygments_lexer": "ipython3",
   "version": "3.8.18"
  }
 },
 "nbformat": 4,
 "nbformat_minor": 5
}
