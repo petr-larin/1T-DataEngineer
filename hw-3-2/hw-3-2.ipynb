{
 "cells": [
  {
   "cell_type": "markdown",
   "id": "06861bf8",
   "metadata": {},
   "source": [
    "Выполните следующие задания на Python без использования сторонних библиотек:"
   ]
  },
  {
   "cell_type": "markdown",
   "id": "71e83dfc",
   "metadata": {},
   "source": [
    "1. Напишите функцию, которая будет принимать на вход длину стороны квадрата и выводить на экран площадь квадрата и его периметр. "
   ]
  },
  {
   "cell_type": "code",
   "execution_count": 1,
   "id": "45c5014e",
   "metadata": {},
   "outputs": [],
   "source": [
    "def square_params(side_len):\n",
    "    try:\n",
    "        side_len = float(side_len)\n",
    "        if side_len < 0:\n",
    "            raise ValueError()\n",
    "    except:\n",
    "        print('Недопустимый аргумент функции square_params.')\n",
    "        return\n",
    "    \n",
    "    print('Площадь квадрата: {}'.format(side_len * side_len))\n",
    "    print('Периметр квадрата: {}'.format(4.0 * side_len))"
   ]
  },
  {
   "cell_type": "code",
   "execution_count": 2,
   "id": "a54d207c",
   "metadata": {},
   "outputs": [
    {
     "name": "stdout",
     "output_type": "stream",
     "text": [
      "Площадь квадрата: 16.0\n",
      "Периметр квадрата: 16.0\n"
     ]
    }
   ],
   "source": [
    "square_params(4)"
   ]
  },
  {
   "cell_type": "markdown",
   "id": "c6870ffb",
   "metadata": {},
   "source": [
    "2. Напишите функцию, которая будет принимать два числа и считать сумму квадратов этих двух чисел, запишите своё вычисление в переменную squared. "
   ]
  },
  {
   "cell_type": "code",
   "execution_count": 3,
   "id": "0c765c07",
   "metadata": {},
   "outputs": [],
   "source": [
    "def sum_of_squares(a, b):\n",
    "    try:\n",
    "        a = float(a)\n",
    "        b = float(b)\n",
    "    except:\n",
    "        print('Недопустимый аргумент функции sum_of_squares.')\n",
    "        return\n",
    "    \n",
    "    return a*a + b*b"
   ]
  },
  {
   "cell_type": "code",
   "execution_count": 4,
   "id": "049b0723",
   "metadata": {},
   "outputs": [
    {
     "name": "stdout",
     "output_type": "stream",
     "text": [
      "225.0\n"
     ]
    }
   ],
   "source": [
    "squared = sum_of_squares(9, 12)\n",
    "print(squared)"
   ]
  },
  {
   "cell_type": "markdown",
   "id": "6a18fe83",
   "metadata": {},
   "source": [
    "3. Напишите функцию, которая будет принимать на вход список [“male“,“male“,“female“,“male“,“male“,“female“,”female“] и возвращать его в обратном порядке. Запишите список в переменную new_list. "
   ]
  },
  {
   "cell_type": "code",
   "execution_count": 5,
   "id": "881b7533",
   "metadata": {},
   "outputs": [],
   "source": [
    "def reversed_list(lst):\n",
    "    \n",
    "    if type(lst) != list:\n",
    "        print('Недопустимый аргумент функции reversed_list.')\n",
    "        return\n",
    "    \n",
    "    if [i for i in lst if i != 'male' and i != 'female'] != []:\n",
    "        print('Недопустимые элементы списка.')\n",
    "        return\n",
    "    \n",
    "    return lst[::-1]"
   ]
  },
  {
   "cell_type": "code",
   "execution_count": 7,
   "id": "fce1ec00",
   "metadata": {},
   "outputs": [
    {
     "name": "stdout",
     "output_type": "stream",
     "text": [
      "['female', 'female', 'male', 'male', 'female', 'male', 'male']\n"
     ]
    }
   ],
   "source": [
    "new_list = ['male','male','female','male','male','female','female']\n",
    "print(reversed_list(new_list))"
   ]
  },
  {
   "cell_type": "markdown",
   "id": "a2aed0e6",
   "metadata": {},
   "source": [
    "4. Напишите функцию, которая будет принимать на вход список из предыдущего задания(new_list) и выводить на экран количество мужчин или количество женщин в зависимости от требований пользователя.\n",
    "\n",
    "Подсказка: вам необходимо добавить еще один параметр в описание функции "
   ]
  },
  {
   "cell_type": "code",
   "execution_count": 8,
   "id": "bad55525",
   "metadata": {},
   "outputs": [],
   "source": [
    "def mf_count(lst, is_female):\n",
    "    \n",
    "    if type(lst) != list:\n",
    "        print('Недопустимый аргумент функции mf_count.')\n",
    "        return\n",
    "    \n",
    "    if [i for i in lst if i != 'male' and i != 'female'] != []:\n",
    "        print('Недопустимые элементы списка.')\n",
    "        return\n",
    "    \n",
    "    print(lst.count('female' if is_female else 'male'))"
   ]
  },
  {
   "cell_type": "code",
   "execution_count": 9,
   "id": "1a55af45",
   "metadata": {},
   "outputs": [
    {
     "name": "stdout",
     "output_type": "stream",
     "text": [
      "3\n"
     ]
    }
   ],
   "source": [
    "mf_count(new_list, True)"
   ]
  },
  {
   "cell_type": "markdown",
   "id": "5ef9cba2",
   "metadata": {},
   "source": [
    "5. Напишите функцию, которая будет принимать строку (Например: “female”), а возвращать словарь где ключи — это символы строки, а значения кол-во символов в строке."
   ]
  },
  {
   "cell_type": "code",
   "execution_count": 10,
   "id": "e9cf6eaf",
   "metadata": {},
   "outputs": [],
   "source": [
    "def ch_count(in_string):\n",
    "\n",
    "    if type(in_string) != str:\n",
    "        print('Недопустимый аргумент функции ch_count.')\n",
    "        return\n",
    "    \n",
    "    sym_set = { ch for ch in in_string }\n",
    "    sym_dict = dict.fromkeys(sym_set)\n",
    "    \n",
    "    for ch in sym_set:\n",
    "        sym_dict[ch] = in_string.count(ch)\n",
    "        \n",
    "    return sym_dict"
   ]
  },
  {
   "cell_type": "code",
   "execution_count": 11,
   "id": "5d00442f",
   "metadata": {},
   "outputs": [
    {
     "name": "stdout",
     "output_type": "stream",
     "text": [
      "{' ': 1, 'f': 1, 'm': 2, 'l': 2, 'a': 2, 'e': 3}\n"
     ]
    }
   ],
   "source": [
    "print(ch_count('female male'))"
   ]
  },
  {
   "cell_type": "code",
   "execution_count": null,
   "id": "8ec237dd",
   "metadata": {},
   "outputs": [],
   "source": []
  }
 ],
 "metadata": {
  "kernelspec": {
   "display_name": "Python 3 (ipykernel)",
   "language": "python",
   "name": "python3"
  },
  "language_info": {
   "codemirror_mode": {
    "name": "ipython",
    "version": 3
   },
   "file_extension": ".py",
   "mimetype": "text/x-python",
   "name": "python",
   "nbconvert_exporter": "python",
   "pygments_lexer": "ipython3",
   "version": "3.9.16"
  }
 },
 "nbformat": 4,
 "nbformat_minor": 5
}
