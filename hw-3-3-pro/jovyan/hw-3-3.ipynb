{
 "cells": [
  {
   "cell_type": "code",
   "execution_count": 1,
   "id": "eaf772c6",
   "metadata": {},
   "outputs": [],
   "source": [
    "import requests as req\n",
    "import psycopg2 as pg2\n",
    "import datetime as dt"
   ]
  },
  {
   "cell_type": "code",
   "execution_count": 2,
   "id": "6f870b8b",
   "metadata": {},
   "outputs": [],
   "source": [
    "# Исходные данные\n",
    "\n",
    "access_key = 'f6df1609cd905120e432af4619144713'\n",
    "start_date = '2023-09-01'\n",
    "end_date = '2023-09-30'\n",
    "source = 'RUB'\n",
    "currencies = 'BTC, USD, EUR'\n",
    "\n",
    "currencies_list = currencies.replace(' ','').split(',')\n",
    "start_date_dt = dt.date.fromisoformat(start_date)\n",
    "end_date_dt = dt.date.fromisoformat(end_date)"
   ]
  },
  {
   "cell_type": "code",
   "execution_count": 3,
   "id": "a988fed3",
   "metadata": {},
   "outputs": [
    {
     "name": "stdout",
     "output_type": "stream",
     "text": [
      "Статус-код: 200\n"
     ]
    }
   ],
   "source": [
    "# Запрос к Web API\n",
    "\n",
    "url = 'http://api.exchangerate.host/timeframe?access_key={}&start_date={}&end_date={}&'\\\n",
    "    'source={}&currencies={}'.format(access_key, start_date, end_date, source, currencies)\n",
    "\n",
    "response = req.get(url)\n",
    "print('Статус-код: {}'.format(response.status_code))\n",
    "data = response.json()"
   ]
  },
  {
   "cell_type": "code",
   "execution_count": 4,
   "id": "2bb547a0",
   "metadata": {},
   "outputs": [],
   "source": [
    "# Создание таблиц\n",
    "\n",
    "pg_hostname = 'db'\n",
    "pg_port = '5432'\n",
    "pg_username = 'postgres'\n",
    "pg_pass = 'postgres'\n",
    "pg_db = 'quotes'\n",
    "\n",
    "conn = pg2.connect(host=pg_hostname, port=pg_port, user=pg_username, password=pg_pass, database=pg_db)\n",
    "cursor = conn.cursor()\n",
    "\n",
    "for cur in currencies_list:\n",
    "    cursor.execute('CREATE TABLE IF NOT EXISTS {}('\\\n",
    "               'id SERIAL PRIMARY KEY,'\\\n",
    "               'quote_date date,'\\\n",
    "               'source VARCHAR(4),'\\\n",
    "               'currency VARCHAR(4),'\\\n",
    "               'rate float);'.format(source + cur)\n",
    "              )\n",
    "\n",
    "conn.commit()\n",
    "cursor.close()\n",
    "conn.close()"
   ]
  },
  {
   "cell_type": "code",
   "execution_count": 5,
   "id": "0e2145b8",
   "metadata": {},
   "outputs": [],
   "source": [
    "# Наполнение таблиц\n",
    "\n",
    "conn = pg2.connect(host=pg_hostname, port=pg_port, user=pg_username, password=pg_pass, database=pg_db)\n",
    "cursor = conn.cursor()\n",
    "\n",
    "for cur in currencies_list:\n",
    "    \n",
    "    date_dt = start_date_dt\n",
    "    cur_pair = source + cur\n",
    "    insert_str = 'INSERT INTO {} (quote_date,source,currency,rate) VALUES'.format(cur_pair)\n",
    "\n",
    "    while date_dt <= end_date_dt:\n",
    "        date_str = str(date_dt)\n",
    "        rate = data['quotes'][date_str][cur_pair]\n",
    "        if rate > 0: rate = 1.0/rate\n",
    "        else: rate = 'NULL'\n",
    "        insert_str += \"('{}','{}','{}',{}),\".format(date_str, source, cur, str(rate))\n",
    "        date_dt += dt.timedelta(days=1)\n",
    "    \n",
    "    insert_str = insert_str[:-1] + ';'\n",
    "    cursor.execute(insert_str)\n",
    "\n",
    "conn.commit()\n",
    "cursor.close()\n",
    "conn.close()"
   ]
  },
  {
   "cell_type": "code",
   "execution_count": 6,
   "id": "09f55e2f",
   "metadata": {},
   "outputs": [
    {
     "name": "stdout",
     "output_type": "stream",
     "text": [
      "\n",
      "cur   max_rate_dt   min_rate_dt   max_rate     min_rate     avg_rate     last_d_rate\n",
      "------------------------------------------------------------------------------------\n",
      "BTC   2023-09-19    2023-09-11    2654195.49   2392207.15   2542285.00   2643509.52\n",
      "EUR   2023-09-07    2023-09-25        105.37       100.45       103.22       103.75\n",
      "USD   2023-09-07    2023-09-25         98.50        94.84        96.64        98.00\n"
     ]
    }
   ],
   "source": [
    "# Создание витрины\n",
    "\n",
    "# LIMIT 1 в подзапросах нужен потому, что если они возвращают более одного значения, \n",
    "# возникает ошибка - при задвоении данных, или когда минимум/максимум приходится на несколько дат.\n",
    "\n",
    "query = \"\"\"(\n",
    "WITH CTE AS(\n",
    "SELECT\n",
    "  MAX(rate) AS max_rate,\n",
    "  MIN(rate) AS min_rate,\n",
    "  AVG(rate) AS avg_rate,\n",
    "  MAX(quote_date) AS last_day\n",
    "FROM public.rubbtc)\n",
    "SELECT\n",
    "  'BTC' AS currency,\n",
    "  (SELECT quote_date FROM public.rubbtc WHERE rate = (SELECT max_rate FROM CTE) LIMIT 1) AS max_rate_date,\n",
    "  (SELECT quote_date FROM public.rubbtc WHERE rate = (SELECT min_rate FROM CTE) LIMIT 1) AS min_rate_date,\n",
    "  (SELECT ROUND(max_rate::numeric,2) FROM CTE) AS max_rate,\n",
    "  (SELECT ROUND(min_rate::numeric,2) FROM CTE) AS min_rate,\n",
    "  (SELECT ROUND(avg_rate::numeric,2) FROM CTE) AS avg_rate,\n",
    "  (SELECT ROUND(rate::numeric,2) FROM public.rubbtc WHERE quote_date = (SELECT last_day FROM CTE) LIMIT 1) AS last_day_rate\n",
    ")\n",
    "UNION ALL\n",
    "(\n",
    "WITH CTE AS(\n",
    "SELECT\n",
    "  MAX(rate) AS max_rate,\n",
    "  MIN(rate) AS min_rate,\n",
    "  AVG(rate) AS avg_rate,\n",
    "  MAX(quote_date) AS last_day\n",
    "FROM public.rubeur)\n",
    "SELECT\n",
    "  'EUR' AS currency,\n",
    "  (SELECT quote_date FROM public.rubeur WHERE rate = (SELECT max_rate FROM CTE) LIMIT 1) AS max_rate_date,\n",
    "  (SELECT quote_date FROM public.rubeur WHERE rate = (SELECT min_rate FROM CTE) LIMIT 1) AS min_rate_date,\n",
    "  (SELECT ROUND(max_rate::numeric,2) FROM CTE) AS max_rate,\n",
    "  (SELECT ROUND(min_rate::numeric,2) FROM CTE) AS min_rate,\n",
    "  (SELECT ROUND(avg_rate::numeric,2) FROM CTE) AS avg_rate,\n",
    "  (SELECT ROUND(rate::numeric,2) FROM public.rubeur WHERE quote_date = (SELECT last_day FROM CTE) LIMIT 1) AS last_day_rate\n",
    ")\n",
    "UNION ALL\n",
    "(\n",
    "WITH CTE AS(\n",
    "SELECT\n",
    "  MAX(rate) AS max_rate,\n",
    "  MIN(rate) AS min_rate,\n",
    "  AVG(rate) AS avg_rate,\n",
    "  MAX(quote_date) AS last_day\n",
    "FROM public.rubusd)\n",
    "SELECT\n",
    "  'USD' AS currency,\n",
    "  (SELECT quote_date FROM public.rubusd WHERE rate = (SELECT max_rate FROM CTE) LIMIT 1) AS max_rate_date,\n",
    "  (SELECT quote_date FROM public.rubusd WHERE rate = (SELECT min_rate FROM CTE) LIMIT 1) AS min_rate_date,\n",
    "  (SELECT ROUND(max_rate::numeric,2) FROM CTE) AS max_rate,\n",
    "  (SELECT ROUND(min_rate::numeric,2) FROM CTE) AS min_rate,\n",
    "  (SELECT ROUND(avg_rate::numeric,2) FROM CTE) AS avg_rate,\n",
    "  (SELECT ROUND(rate::numeric,2) FROM public.rubusd WHERE quote_date = (SELECT last_day FROM CTE) LIMIT 1) AS last_day_rate\n",
    ")\n",
    "\"\"\"\n",
    "\n",
    "conn = pg2.connect(host=pg_hostname, port=pg_port, user=pg_username, password=pg_pass, database=pg_db)\n",
    "cursor = conn.cursor()\n",
    "cursor.execute(query)\n",
    "conn.commit()\n",
    "res = cursor.fetchall()\n",
    "cursor.close()\n",
    "conn.close()\n",
    "\n",
    "print()\n",
    "print('cur   max_rate_dt   min_rate_dt   max_rate     min_rate     avg_rate     last_d_rate')\n",
    "print('------------------------------------------------------------------------------------')\n",
    "for i in range(len(currencies_list)):\n",
    "    print('{}   {}    {}    {:10.2f}   {:10.2f}   {:10.2f}   {:10.2f}'.format(*res[i]))"
   ]
  }
 ],
 "metadata": {
  "kernelspec": {
   "display_name": "Python 3 (ipykernel)",
   "language": "python",
   "name": "python3"
  },
  "language_info": {
   "codemirror_mode": {
    "name": "ipython",
    "version": 3
   },
   "file_extension": ".py",
   "mimetype": "text/x-python",
   "name": "python",
   "nbconvert_exporter": "python",
   "pygments_lexer": "ipython3",
   "version": "3.11.6"
  }
 },
 "nbformat": 4,
 "nbformat_minor": 5
}
